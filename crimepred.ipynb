{
  "nbformat": 4,
  "nbformat_minor": 0,
  "metadata": {
    "colab": {
      "provenance": [],
      "authorship_tag": "ABX9TyPfEfjcRVmCfPHOXVUv0KUe",
      "include_colab_link": true
    },
    "kernelspec": {
      "name": "python3",
      "display_name": "Python 3"
    },
    "language_info": {
      "name": "python"
    }
  },
  "cells": [
    {
      "cell_type": "markdown",
      "metadata": {
        "id": "view-in-github",
        "colab_type": "text"
      },
      "source": [
        "<a href=\"https://colab.research.google.com/github/JanakiVallabhaneni/crimepred/blob/main/crimepred.ipynb\" target=\"_parent\"><img src=\"https://colab.research.google.com/assets/colab-badge.svg\" alt=\"Open In Colab\"/></a>"
      ]
    },
    {
      "cell_type": "code",
      "execution_count": null,
      "metadata": {
        "id": "BZ08ChDyidVs"
      },
      "outputs": [],
      "source": [
        "import pandas as pd\n",
        "from sklearn.ensemble import RandomForestClassifier\n",
        "from sklearn.preprocessing import LabelEncoder\n",
        "from sklearn.model_selection import train_test_split\n",
        "from sklearn.metrics import accuracy_score, precision_score, recall_score, f1_score"
      ]
    },
    {
      "cell_type": "code",
      "source": [
        "df = pd.read_csv('/content/Chicago_Crimes_2012_to_2017.csv',low_memory=False)"
      ],
      "metadata": {
        "id": "MAEb_5IZilyt"
      },
      "execution_count": null,
      "outputs": []
    },
    {
      "cell_type": "code",
      "source": [
        "df=df.head(100000)\n",
        "df = df.dropna()\n",
        "df = df.rename(columns={'Primary Type': 'Primary_Type'})\n",
        "df['Date'] = pd.to_datetime(df['Date'])\n",
        "df['Hour'] = df['Date'].dt.hour\n",
        "df['Day'] = df['Date'].dt.day\n",
        "df['Month'] = df['Date'].dt.month\n",
        "df['Year'] = df['Date'].dt.year"
      ],
      "metadata": {
        "id": "1-g_WJAeiva4"
      },
      "execution_count": null,
      "outputs": []
    },
    {
      "cell_type": "code",
      "source": [
        "le1 = LabelEncoder()\n",
        "le1.fit(df['Block'])\n",
        "df['Block'] = le1.transform(df['Block'])\n",
        "df['Block'].value_counts()"
      ],
      "metadata": {
        "colab": {
          "base_uri": "https://localhost:8080/"
        },
        "id": "1xNVUcJLiy23",
        "outputId": "f10abf39-2a45-4750-e131-265c73308fe7"
      },
      "execution_count": null,
      "outputs": [
        {
          "output_type": "execute_result",
          "data": {
            "text/plain": [
              "570      278\n",
              "2737     190\n",
              "402      181\n",
              "18276    127\n",
              "177      117\n",
              "        ... \n",
              "11395      1\n",
              "15915      1\n",
              "15930      1\n",
              "11783      1\n",
              "15308      1\n",
              "Name: Block, Length: 21592, dtype: int64"
            ]
          },
          "metadata": {},
          "execution_count": 6
        }
      ]
    },
    {
      "cell_type": "code",
      "source": [
        "col_list = ['Primary_Type', 'Block', 'Hour', 'Day', 'Month', 'Year','Latitude','Longitude']"
      ],
      "metadata": {
        "id": "MKvuqxDDi2Or"
      },
      "execution_count": null,
      "outputs": []
    },
    {
      "cell_type": "code",
      "source": [
        "df=df[col_list]\n",
        "print(df)"
      ],
      "metadata": {
        "colab": {
          "base_uri": "https://localhost:8080/"
        },
        "id": "nuDsFJryi8OW",
        "outputId": "7b6536cc-35ab-439a-fad9-83428f277d2e"
      },
      "execution_count": null,
      "outputs": [
        {
          "output_type": "stream",
          "name": "stdout",
          "text": [
            "                 Primary_Type  Block  Hour  Day  Month  Year   Latitude  \\\n",
            "0                     BATTERY   4249    23    3      5  2016  41.864073   \n",
            "1                     BATTERY  16165    21    3      5  2016  41.782922   \n",
            "2      PUBLIC PEACE VIOLATION  14610    23    3      5  2016  41.894908   \n",
            "3                     BATTERY  13651    22    3      5  2016  41.885687   \n",
            "4                       THEFT   1183    22    3      5  2016  41.886297   \n",
            "...                       ...    ...   ...  ...    ...   ...        ...   \n",
            "99995                 BATTERY  20491    21   30      1  2012  41.707251   \n",
            "99996               NARCOTICS  18596    22   30      1  2012  41.749280   \n",
            "99997  PUBLIC PEACE VIOLATION   6253    23   30      1  2012  41.793925   \n",
            "99998                   THEFT   8405    11   30      1  2012  41.844074   \n",
            "99999                   THEFT  15308    15    5      1  2012  41.944954   \n",
            "\n",
            "       Longitude  \n",
            "0     -87.706819  \n",
            "1     -87.604363  \n",
            "2     -87.758372  \n",
            "3     -87.749516  \n",
            "4     -87.761751  \n",
            "...          ...  \n",
            "99995 -87.604006  \n",
            "99996 -87.659772  \n",
            "99997 -87.673581  \n",
            "99998 -87.628442  \n",
            "99999 -87.767505  \n",
            "\n",
            "[92566 rows x 8 columns]\n"
          ]
        }
      ]
    },
    {
      "cell_type": "code",
      "source": [
        "X = df[['Latitude', 'Longitude', 'Month', 'Day', 'Block', 'Year', 'Hour']]\n",
        "y = df['Primary_Type']"
      ],
      "metadata": {
        "id": "TAUXpkkBi_-7"
      },
      "execution_count": null,
      "outputs": []
    },
    {
      "cell_type": "code",
      "source": [
        "X_train, X_test, y_train, y_test = train_test_split(X, y, test_size=0.2, random_state=42)\n",
        "print('Training set shape:', X_train.shape)\n",
        "print('Testing set shape:', X_test.shape)"
      ],
      "metadata": {
        "colab": {
          "base_uri": "https://localhost:8080/"
        },
        "id": "JO_mipXGjDvT",
        "outputId": "a7bb543a-61f3-445b-e89f-909eb8b6c157"
      },
      "execution_count": null,
      "outputs": [
        {
          "output_type": "stream",
          "name": "stdout",
          "text": [
            "Training set shape: (74052, 7)\n",
            "Testing set shape: (18514, 7)\n"
          ]
        }
      ]
    },
    {
      "cell_type": "code",
      "source": [
        "clf = RandomForestClassifier()\n",
        "clf.fit(X, y)"
      ],
      "metadata": {
        "colab": {
          "base_uri": "https://localhost:8080/",
          "height": 74
        },
        "id": "RyPD1jfRk4sx",
        "outputId": "bb9e6592-d078-4d61-cc2d-de6afb3c4be1"
      },
      "execution_count": null,
      "outputs": [
        {
          "output_type": "execute_result",
          "data": {
            "text/plain": [
              "RandomForestClassifier()"
            ],
            "text/html": [
              "<style>#sk-container-id-1 {color: black;background-color: white;}#sk-container-id-1 pre{padding: 0;}#sk-container-id-1 div.sk-toggleable {background-color: white;}#sk-container-id-1 label.sk-toggleable__label {cursor: pointer;display: block;width: 100%;margin-bottom: 0;padding: 0.3em;box-sizing: border-box;text-align: center;}#sk-container-id-1 label.sk-toggleable__label-arrow:before {content: \"▸\";float: left;margin-right: 0.25em;color: #696969;}#sk-container-id-1 label.sk-toggleable__label-arrow:hover:before {color: black;}#sk-container-id-1 div.sk-estimator:hover label.sk-toggleable__label-arrow:before {color: black;}#sk-container-id-1 div.sk-toggleable__content {max-height: 0;max-width: 0;overflow: hidden;text-align: left;background-color: #f0f8ff;}#sk-container-id-1 div.sk-toggleable__content pre {margin: 0.2em;color: black;border-radius: 0.25em;background-color: #f0f8ff;}#sk-container-id-1 input.sk-toggleable__control:checked~div.sk-toggleable__content {max-height: 200px;max-width: 100%;overflow: auto;}#sk-container-id-1 input.sk-toggleable__control:checked~label.sk-toggleable__label-arrow:before {content: \"▾\";}#sk-container-id-1 div.sk-estimator input.sk-toggleable__control:checked~label.sk-toggleable__label {background-color: #d4ebff;}#sk-container-id-1 div.sk-label input.sk-toggleable__control:checked~label.sk-toggleable__label {background-color: #d4ebff;}#sk-container-id-1 input.sk-hidden--visually {border: 0;clip: rect(1px 1px 1px 1px);clip: rect(1px, 1px, 1px, 1px);height: 1px;margin: -1px;overflow: hidden;padding: 0;position: absolute;width: 1px;}#sk-container-id-1 div.sk-estimator {font-family: monospace;background-color: #f0f8ff;border: 1px dotted black;border-radius: 0.25em;box-sizing: border-box;margin-bottom: 0.5em;}#sk-container-id-1 div.sk-estimator:hover {background-color: #d4ebff;}#sk-container-id-1 div.sk-parallel-item::after {content: \"\";width: 100%;border-bottom: 1px solid gray;flex-grow: 1;}#sk-container-id-1 div.sk-label:hover label.sk-toggleable__label {background-color: #d4ebff;}#sk-container-id-1 div.sk-serial::before {content: \"\";position: absolute;border-left: 1px solid gray;box-sizing: border-box;top: 0;bottom: 0;left: 50%;z-index: 0;}#sk-container-id-1 div.sk-serial {display: flex;flex-direction: column;align-items: center;background-color: white;padding-right: 0.2em;padding-left: 0.2em;position: relative;}#sk-container-id-1 div.sk-item {position: relative;z-index: 1;}#sk-container-id-1 div.sk-parallel {display: flex;align-items: stretch;justify-content: center;background-color: white;position: relative;}#sk-container-id-1 div.sk-item::before, #sk-container-id-1 div.sk-parallel-item::before {content: \"\";position: absolute;border-left: 1px solid gray;box-sizing: border-box;top: 0;bottom: 0;left: 50%;z-index: -1;}#sk-container-id-1 div.sk-parallel-item {display: flex;flex-direction: column;z-index: 1;position: relative;background-color: white;}#sk-container-id-1 div.sk-parallel-item:first-child::after {align-self: flex-end;width: 50%;}#sk-container-id-1 div.sk-parallel-item:last-child::after {align-self: flex-start;width: 50%;}#sk-container-id-1 div.sk-parallel-item:only-child::after {width: 0;}#sk-container-id-1 div.sk-dashed-wrapped {border: 1px dashed gray;margin: 0 0.4em 0.5em 0.4em;box-sizing: border-box;padding-bottom: 0.4em;background-color: white;}#sk-container-id-1 div.sk-label label {font-family: monospace;font-weight: bold;display: inline-block;line-height: 1.2em;}#sk-container-id-1 div.sk-label-container {text-align: center;}#sk-container-id-1 div.sk-container {/* jupyter's `normalize.less` sets `[hidden] { display: none; }` but bootstrap.min.css set `[hidden] { display: none !important; }` so we also need the `!important` here to be able to override the default hidden behavior on the sphinx rendered scikit-learn.org. See: https://github.com/scikit-learn/scikit-learn/issues/21755 */display: inline-block !important;position: relative;}#sk-container-id-1 div.sk-text-repr-fallback {display: none;}</style><div id=\"sk-container-id-1\" class=\"sk-top-container\"><div class=\"sk-text-repr-fallback\"><pre>RandomForestClassifier()</pre><b>In a Jupyter environment, please rerun this cell to show the HTML representation or trust the notebook. <br />On GitHub, the HTML representation is unable to render, please try loading this page with nbviewer.org.</b></div><div class=\"sk-container\" hidden><div class=\"sk-item\"><div class=\"sk-estimator sk-toggleable\"><input class=\"sk-toggleable__control sk-hidden--visually\" id=\"sk-estimator-id-1\" type=\"checkbox\" checked><label for=\"sk-estimator-id-1\" class=\"sk-toggleable__label sk-toggleable__label-arrow\">RandomForestClassifier</label><div class=\"sk-toggleable__content\"><pre>RandomForestClassifier()</pre></div></div></div></div></div>"
            ]
          },
          "metadata": {},
          "execution_count": 11
        }
      ]
    },
    {
      "cell_type": "code",
      "source": [
        "y_pred = clf.predict(X_test)"
      ],
      "metadata": {
        "id": "JBHX7zI-klAG"
      },
      "execution_count": null,
      "outputs": []
    },
    {
      "cell_type": "code",
      "source": [
        "accuracy = accuracy_score(y_test, y_pred)\n",
        "print('Accuracy:', accuracy)\n",
        "precision = precision_score(y_test, y_pred, average='weighted')\n",
        "print('Precision:', precision)\n",
        "recall = recall_score(y_test, y_pred, average='weighted')\n",
        "print('Recall:', recall)\n",
        "f1 = f1_score(y_test, y_pred, average='weighted')\n",
        "print('F1-score:', f1)"
      ],
      "metadata": {
        "colab": {
          "base_uri": "https://localhost:8080/"
        },
        "id": "r1nKOnlBjQ6N",
        "outputId": "435ef39d-07d6-41a8-fcbc-8b1c78ab169e"
      },
      "execution_count": null,
      "outputs": [
        {
          "output_type": "stream",
          "name": "stdout",
          "text": [
            "Accuracy: 0.9966511828886249\n",
            "Precision: 0.9966529139823125\n",
            "Recall: 0.9966511828886249\n",
            "F1-score: 0.9966409356824941\n"
          ]
        }
      ]
    },
    {
      "cell_type": "code",
      "source": [
        "Block = input('Enter the block: ')\n",
        "Hour = int(input('Enter the hour: '))\n",
        "Day = int(input('Enter the day: '))\n",
        "Month = int(input('Enter the month: '))\n",
        "Year = int(input('Enter the year: '))\n",
        "Latitude = float(input('Enter the latitude: '))\n",
        "Longitude = float(input('Enter the longitude: '))\n",
        "\n",
        "user_data = pd.DataFrame({\n",
        "    'Block': [Block],\n",
        "    'Hour': [Hour],\n",
        "    'Day': [Day],\n",
        "    'Month': [Month],\n",
        "    'Year': [Year],\n",
        "    'Latitude': [Latitude],\n",
        "    'Longitude': [Longitude]\n",
        "})\n"
      ],
      "metadata": {
        "colab": {
          "base_uri": "https://localhost:8080/"
        },
        "id": "51mk0XimxepA",
        "outputId": "41651541-d119-4c84-81a5-03fda1b6c5c9"
      },
      "execution_count": null,
      "outputs": [
        {
          "name": "stdout",
          "output_type": "stream",
          "text": [
            "Enter the block: 18596\n",
            "Enter the hour: 5\n",
            "Enter the day: 4\n",
            "Enter the month: 6\n",
            "Enter the year: 2023\n",
            "Enter the latitude: 41.74928\n",
            "Enter the longitude: -87.659772\n"
          ]
        }
      ]
    },
    {
      "cell_type": "code",
      "source": [
        "print(user_data)"
      ],
      "metadata": {
        "colab": {
          "base_uri": "https://localhost:8080/"
        },
        "id": "-QeEB8-EDNET",
        "outputId": "e59ddc75-3db6-4c8d-f493-60e56287847d"
      },
      "execution_count": null,
      "outputs": [
        {
          "output_type": "stream",
          "name": "stdout",
          "text": [
            "   Block  Hour  Day  Month  Year  Latitude  Longitude\n",
            "0  18596     5    4      6  2023  41.74928 -87.659772\n"
          ]
        }
      ]
    },
    {
      "cell_type": "code",
      "source": [
        "user_data = user_data[['Latitude', 'Longitude', 'Month', 'Day', 'Block', 'Year', 'Hour']]\n",
        "predictions = clf.predict(user_data)\n",
        "print('Predicted outcomes:', predictions)"
      ],
      "metadata": {
        "colab": {
          "base_uri": "https://localhost:8080/"
        },
        "id": "jkm2Dy6Wxii2",
        "outputId": "91df5130-da1e-4ce8-d7b4-6f03c29689cc"
      },
      "execution_count": null,
      "outputs": [
        {
          "output_type": "stream",
          "name": "stdout",
          "text": [
            "Predicted outcomes: ['ASSAULT']\n"
          ]
        }
      ]
    },
    {
      "cell_type": "code",
      "source": [],
      "metadata": {
        "id": "DavUHPoK6THM"
      },
      "execution_count": null,
      "outputs": []
    }
  ]
}